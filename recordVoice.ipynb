{
 "cells": [
  {
   "cell_type": "code",
   "execution_count": 1,
   "id": "a53e37a9",
   "metadata": {},
   "outputs": [],
   "source": [
    "import sounddevice as sd\n",
    "import os, glob, pandas, numpy, shutil, sys, soundfile\n",
    "from scipy.io.wavfile import write"
   ]
  },
  {
   "cell_type": "code",
   "execution_count": 4,
   "id": "1c99f345",
   "metadata": {},
   "outputs": [
    {
     "name": "stdout",
     "output_type": "stream",
     "text": [
      "Finished...\n",
      "\n"
     ]
    }
   ],
   "source": [
    "fs = 44100 # 采样率44100/48000帧\n",
    "sd.default.samplerate = fs\n",
    "sd.default.channels = 1\n",
    "duration = int(input(\"Enter the time duration in second: \")) # 持续时间\n",
    "myrecording = sd.rec(int(duration * fs)) # 录制音频\n",
    "sd.wait() # 阻塞\n",
    "\n",
    "print(\"Finished...\\n\")"
   ]
  },
  {
   "cell_type": "code",
   "execution_count": 25,
   "id": "2ce7df8e",
   "metadata": {},
   "outputs": [],
   "source": [
    "def mkdir(path):\n",
    "    folder = os.path.exists(path)\n",
    "    if not folder:              \n",
    "        os.makedirs(path)"
   ]
  },
  {
   "cell_type": "markdown",
   "id": "4545d8f4",
   "metadata": {},
   "source": [
    "### 用scipy.io.wavfile来实现numpy转wav写入文件"
   ]
  },
  {
   "cell_type": "code",
   "execution_count": 5,
   "id": "c93f3356",
   "metadata": {},
   "outputs": [],
   "source": [
    "write(\"rec_files/out.wav\",fs,myrecording)"
   ]
  },
  {
   "cell_type": "markdown",
   "id": "2c253a52",
   "metadata": {},
   "source": [
    "### 用自定义的函数以及soundfile来实现numpy转wav写入文件"
   ]
  },
  {
   "cell_type": "code",
   "execution_count": 26,
   "id": "90caccde",
   "metadata": {},
   "outputs": [],
   "source": [
    "def write_to_wav_file(res_data_array, fileName):\n",
    "    \"\"\"\n",
    "    功能: 将录音数据写入文件\n",
    "    :param res_data_array: 录音结果数据\n",
    "    :return:\n",
    "    \"\"\"\n",
    "    rec_file_path = os.path.join(os.getcwd(), \"rec_files\")\n",
    "    mkdir(rec_file_path)\n",
    "    # 保存\n",
    "    # 这里写入文件使用的采样率最好和录音得到的res_data_array一样, 否则会造成文件时长和录音设定的不一样\n",
    "    # 如果采样率不一致, 文件也会异常, 听着不对\n",
    "    soundfile.write(os.path.join(rec_file_path,fileName), res_data_array, samplerate=fs, subtype=\"PCM_16\")\n",
    "write_to_wav_file(myrecording,fileName=\"rec_1.wav\")"
   ]
  },
  {
   "cell_type": "code",
   "execution_count": null,
   "id": "419e3f0a",
   "metadata": {},
   "outputs": [],
   "source": []
  }
 ],
 "metadata": {
  "kernelspec": {
   "display_name": "Python 3",
   "language": "python",
   "name": "python3"
  },
  "language_info": {
   "codemirror_mode": {
    "name": "ipython",
    "version": 3
   },
   "file_extension": ".py",
   "mimetype": "text/x-python",
   "name": "python",
   "nbconvert_exporter": "python",
   "pygments_lexer": "ipython3",
   "version": "3.8.10"
  }
 },
 "nbformat": 4,
 "nbformat_minor": 5
}
